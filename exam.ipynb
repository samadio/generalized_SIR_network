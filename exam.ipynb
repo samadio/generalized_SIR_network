{
 "cells": [
  {
   "cell_type": "code",
   "execution_count": 82,
   "metadata": {},
   "outputs": [
    {
     "name": "stdout",
     "output_type": "stream",
     "text": [
      "Populating the interactive namespace from numpy and matplotlib\n"
     ]
    },
    {
     "name": "stderr",
     "output_type": "stream",
     "text": [
      "/home/simone/anaconda3/envs/python_env/lib/python3.6/site-packages/IPython/core/magics/pylab.py:160: UserWarning: pylab import has clobbered these variables: ['beta', 'gamma']\n",
      "`%matplotlib` prevents importing * from pylab and numpy\n",
      "  \"\\n`%matplotlib` prevents importing * from pylab and numpy\"\n"
     ]
    }
   ],
   "source": [
    "%pylab inline \n",
    "        \n",
    "##be careful, lamda is a rate, eta is a probability!\n",
    "#lamda is (l1=rate of interaction Y+X->Y+Y)+(l2=rate of Y+X->Y+Z), so lamda=l1+l2, eta=l1/l1+l2\n",
    "lamda=1; eta=.95; #5% of discovering yourself immune\n",
    "\n",
    "##beta=rate Z+X->Y+X, gamma=rate Z->X\n",
    "beta=.0; gamma=.05 #no immune->ill, loss of immunity in 5%\n",
    "\n",
    "##d1 Y->X,d2 Y->Z, alpha: Y+(not X)-> Z+(not X)\n",
    "d1=d2=.01 ; alpha=0.  #1% of probability of losing the illness, no gaining immunity through contact between Y\n",
    "\n",
    "#[50,200,500,2000]\n",
    "tot=2000 #number of nodes\n",
    "houses=5\n",
    "house_size=tot//houses  #[5,50,100] households\n",
    "medians=[(house_size//2)+house_size*i for i in range(0,tot//house_size)]\n",
    "\n",
    "init_spread=0.01 #initial spreaders percentage\n",
    "#print(medians)\n",
    "\n",
    "T=100\n",
    "t=0\n",
    "max_it=15000"
   ]
  },
  {
   "cell_type": "code",
   "execution_count": 83,
   "metadata": {},
   "outputs": [],
   "source": [
    "def delta(status,desired): #returns 0 if and only if status and desired are the same\n",
    "    return int(status==desired)"
   ]
  },
  {
   "cell_type": "code",
   "execution_count": 84,
   "metadata": {},
   "outputs": [],
   "source": [
    "class Node:\n",
    "    def __init__(self, status):\n",
    "        self.stat=status #status of the node:0=X,1=Y,2=Z\n",
    "        self.neig=[]\n",
    "        self.k=0\n",
    "        self.kx=0\n",
    "        self.omega=0 #total rate of transition of the node\n",
    "        self.spontaneous=0  #rate of spontaneous transistion of the node\n",
    "        \n",
    "    def insert_neighbours(self,neigh):\n",
    "        self.neig=neigh #list of neighbours\n",
    "        self.k=size(neigh)\n",
    "        \n",
    "    def update(self, increment=0):\n",
    "        self.kx+= increment \n",
    "        self.omega=self.myomega()\n",
    "        self.spontaneous=self.spont()\n",
    "    \n",
    "    def myomega(self): #not normalized probability of being chosen,proportional to transition rate\n",
    "        return delta(self.stat,1)*(self.kx*lamda+alpha*(self.k-self.kx)+d1+d2)+delta(self.stat,2)*(gamma+self.kx*beta)\n",
    "    \n",
    "    def spont(self): #rate of spontanous transitions\n",
    "        return delta(self.stat,1)*(d1+d2)+delta(self.stat,2)*gamma"
   ]
  },
  {
   "cell_type": "code",
   "execution_count": 85,
   "metadata": {},
   "outputs": [
    {
     "name": "stdout",
     "output_type": "stream",
     "text": [
      "1981 19\n"
     ]
    }
   ],
   "source": [
    "node=[]\n",
    "for i in range(tot):\n",
    "    r= 1 if np.random.rand(1)<init_spread else 0\n",
    "    node.append(Node(r))\n",
    "    \n",
    "for i in range(tot):  #insert neighbours and fix k\n",
    "    node[i].insert_neighbours(  [j for j in range(    house_size*(i//house_size),house_size*(1+i//house_size)) if j!=i]\n",
    "                              + [m for m in medians if (i in medians)and(m!=i)])\n",
    "    \n",
    "for i in range(tot): #fix kx,omega, spontaneous rate\n",
    "    node[i].update(size([node[j] for j in node[i].neig if node[j].stat==0]))\n",
    "    \n",
    "#print([i for i in range(tot) if node[i].stat==1])\n",
    "#print([node[i].kx for i in range(tot)])\n",
    "W=sum([node[i].omega for i in range(tot)])\n",
    "W\n",
    "Nx=sum([node[i].stat==0 for i in range(tot)])\n",
    "Ny=sum([node[i].stat==1 for i in range(tot)])\n",
    "print(Nx,Ny)"
   ]
  },
  {
   "cell_type": "markdown",
   "metadata": {},
   "source": [
    "## SIMULATOR, Improved Rejection sampling with node-based method"
   ]
  },
  {
   "cell_type": "code",
   "execution_count": 86,
   "metadata": {},
   "outputs": [],
   "source": [
    "#this function choose a node randomly and accepts it with probability proportional to its total rate (omega[i])\n",
    "def choose_node():\n",
    "    while(True):\n",
    "        r2,i= np.random.rand(2)\n",
    "        i=int(i*tot) #extracted node\n",
    "        if(node[i].omega>r2*W):\n",
    "            return i\n",
    "        \n",
    "        \n",
    "##choose noded version2:\n",
    "def choose_node_2(probs):\n",
    "    sorted_probs= sorted(((v, i) for i, v in enumerate(probs)), reverse=True)\n",
    "\n",
    "    cumulates = np.cumsum([item[0] for item in sorted_probs])  \n",
    "    r2=np.random.rand()\n",
    "\n",
    "    for i, val in enumerate(cumulates):\n",
    "        if r2 < val:\n",
    "            idx=sorted_probs[i][1]\n",
    "            return idx       \n",
    "\n",
    "        \n",
    "#this function represent a spontaneous process (nodes not interacting)\n",
    "def spontaneous_transition(i):\n",
    "    global Nx,Ny\n",
    "    if(node[i].stat==0):\n",
    "        print(\"Should not happen\")\n",
    "        return\n",
    "    r=np.random.rand()\n",
    "    if((node[i].stat==1)and(r*(d1+d2)<d1)):  #case Y=>X with rate d1\n",
    "        #print(\"Y to X\")\n",
    "        node[i].stat=0\n",
    "        node[i].update(0)\n",
    "        Nx+=1\n",
    "        Ny-=1\n",
    "        for n in node[i].neig:\n",
    "            node[n].update(1) #all neighbours have 1 more X neighbours\n",
    "        return\n",
    "    elif((node[i].stat==1)and(r*(d1+d2)>d1)): #case Y=>Z rate d2\n",
    "        #print(\"Y to Z\")\n",
    "        node[i].stat=2   #does not change kx of neighbours, so they do not need to be updated\n",
    "        node[i].update(0)\n",
    "        Ny-=1\n",
    "        return\n",
    "    #case Z=>X\n",
    "    #print(\"Z to X\")\n",
    "    node[i].stat=0\n",
    "    node[i].update(0)\n",
    "    Nx+=1\n",
    "    for n in node[i].neig:\n",
    "        node[n].update(1)\n",
    "    return\n",
    "    \n",
    "    \n",
    "#this function simulate contact from node[i] to one of its neighbours  \n",
    "def make_contact_from(i):\n",
    "    global Nx,Ny\n",
    "    #n=random.choice(node[i].neig)\n",
    "\n",
    "    s=node[i].stat\n",
    "\n",
    "    #choose node according to its interaction rate: i//2 is 0 for Y, 1 for Z, no X enters here\n",
    "            #i==Z,only interacts with X    #i=Y, interacts with X with rate lamda, otherwise alpha\n",
    "    \n",
    "    #probs=[(s//2)*beta*delta(node[j].stat,0)+   (1-s//2)*(delta(node[j].stat,0)*lamda+(1-delta(node[j].stat,0))*alpha) for j in node[i].neig]\n",
    "    \n",
    "    \n",
    "            #I'm Z and neighbours is X        I'm Y      neig=X                      neig not X\n",
    "    probs=[(s//2)*beta*int(not node[j].stat) +(1-s//2)*(lamda*int(not node[j].stat)+(1-int(not node[j].stat))*alpha) for j in node[i].neig]\n",
    "    probs=probs/sum(probs)\n",
    "    \n",
    "    #choose_node2 will gives index referred to node[i].neig, so\n",
    "    q=choose_node_2(probs)\n",
    "    \n",
    "    if(q==None):\n",
    "        print(\"problems from node \"+str(i)+\":\",node[i].stat,node[i].omega,node[i].spontaneous)\n",
    "    n=node[i].neig[q]\n",
    "    \n",
    "    \n",
    "    if((node[i].stat==1)and(node[n].stat==0)): #Y+X \n",
    "        if(np.random.rand()<eta):  #Y+X=> Y+Y with prob eta           \n",
    "            node[n].stat=1\n",
    "            node[n].update(0)\n",
    "            Nx-=1\n",
    "            Ny+=1\n",
    "            for nn in node[n].neig:\n",
    "                node[nn].update(-1) #all the neighbours of node[n] have 1 less X neighbour, me included\n",
    "            return\n",
    "        else:  #Y+X=>Y+Z with (1-eta)\n",
    "            #print(str(i)+\"+X->Y+Z\")\n",
    "            node[n].stat=2\n",
    "            node[n].update(0)\n",
    "            Nx-=1\n",
    "            for nn in node[n].neig:\n",
    "                node[nn].update(-1) #all the neighbours of node[n] have 1 less X neighbour, me included\n",
    "            return\n",
    "    elif(node[i].stat==1): #Y+ (Z or Y) => Z+ (Z or Y)        \n",
    "        node[i].stat=2\n",
    "        Ny-=1\n",
    "        node[i].update(0)   #No change in kx for me nor my neighbours\n",
    "        return\n",
    "    #if u arrive here, it means u are Z && kx!=0, so u can do contact transition of Z\n",
    "    #Z+X->Y+X\n",
    "    if(node[i].stat!=2):\n",
    "        print(\"cosa che diamine\")\n",
    "    node[i].stat=1\n",
    "    node[i].update(0)  #neighbours no need to update: kx is the same for them\n",
    "    Ny+=1\n",
    "    return"
   ]
  },
  {
   "cell_type": "code",
   "execution_count": 87,
   "metadata": {},
   "outputs": [
    {
     "name": "stdout",
     "output_type": "stream",
     "text": [
      "approaching T\n",
      "approaching T\n",
      "CPU times: user 36.8 s, sys: 75.9 ms, total: 36.9 s\n",
      "Wall time: 36.9 s\n"
     ]
    }
   ],
   "source": [
    "%%time \n",
    "\n",
    "results=[]\n",
    "t=0\n",
    "r=np.random.rand(2*max_it)\n",
    "it=0\n",
    "\n",
    "results.append((t,Nx,Ny,tot-(Nx+Ny)))\n",
    "\n",
    "while((it<2*max_it)and (t<=T)):\n",
    "    dt=-log(r[it])/W\n",
    "    t+=dt\n",
    "    i=choose_node_2([node[i].omega/W for i in range(tot)])\n",
    "    \n",
    "    #print('node chosen', i)\n",
    "    if(i==None):\n",
    "        print('end ',Nx,Ny,[node[j].kx for j in range(tot) if node[j].stat==1])\n",
    "        break\n",
    "    \n",
    "    if(r[it+1]*node[i].omega>node[i].spontaneous): \n",
    "        make_contact_from(i)\n",
    "    else:\n",
    "        spontaneous_transition(i)\n",
    "\n",
    "    W=sum([node[j].omega for j in range(tot)])\n",
    "    results.append((t,Nx,Ny,tot-(Nx+Ny)))\n",
    "    it+=2\n",
    "    if(it/2>max_it-1):\n",
    "        print('approaching max_it')\n",
    "    if(T-t<0.01):\n",
    "        print('approaching T')"
   ]
  },
  {
   "cell_type": "code",
   "execution_count": 88,
   "metadata": {},
   "outputs": [
    {
     "data": {
      "image/png": "[encoded data removed]",
      "text/plain": [
       "<Figure size 432x288 with 1 Axes>"
      ]
     },
     "metadata": {
      "needs_background": "light"
     },
     "output_type": "display_data"
    }
   ],
   "source": [
    "times= [item[0] for item in results]\n",
    "Nx_plot= [item[1]/tot for item in results]\n",
    "Ny_plot= [item[2]/tot for item in results]\n",
    "Nz_plot= [item[3]/tot for item in results]\n",
    "\n",
    "ax = subplot(111)\n",
    "\n",
    "ax.plot(times,Nx_plot,'-o',label='Nx',markersize=2)\n",
    "ax.plot(times,Ny_plot,'-o',label='Ny',markersize=2)\n",
    "ax.plot(times,Nz_plot,'-o',label='Nz',markersize=2)\n",
    "ax.legend()\n",
    "ax.set_xlabel('Time')\n",
    "ax.set_ylabel('Population density')\n",
    "plt.title(str(tot)+' agents, contagions '+str(houses)+' houses')\n",
    "#plt.savefig('Y_contagion_'+str(tot)+'_complete_graph_myinfection.png',dpi=200)\n",
    "plt.show()"
   ]
  },
  {
   "cell_type": "code",
   "execution_count": null,
   "metadata": {},
   "outputs": [],
   "source": [
    "# uniform neighbour: 500: 1.69, 1000: 7.7, 2000:27.8s \n",
    "#rate based neighbour v1 500:6 ,1000:21 ,2000:91 s\n",
    "#rate based neighbour v2 500:5.75 ,1000:21.5 ,2000:86 s"
   ]
  },
  {
   "cell_type": "raw",
   "metadata": {},
   "source": []
  },
  {
   "cell_type": "markdown",
   "metadata": {},
   "source": [
    "## LIMITATIONS OF NODE BASED METHOD for multiple transitions, with uniform neighbour distribution"
   ]
  },
  {
   "cell_type": "markdown",
   "metadata": {},
   "source": [
    "Be aware that for how the problem is stated, the rates are used only to sample the transition, so even if I put \n",
    "\n",
    "lamda=1; eta=1. so Y for sure infects a neighbour X to Y\n",
    "\n",
    "beta=rate Z+X->Y+X, gamma=rate Z->X\n",
    "beta=.0; gamma=.0 \n",
    "\n",
    "##d1 Y->X,d2 Y->Z, alpha: Y+(not X)-> Z+(not X)\n",
    "d1=d2=.0 ; alpha=0\n",
    "\n",
    "U expect to only allow Y+X->Y+Y, so Y should never die\n",
    "Actually what happens is that at the end u have 20% X, 0% Y and 80% Z.\n",
    "Why? Y has spontaneous rate=0 so it always makes contact, but inside it doesn't matter the rate, it just sees who the extracted neighbour is. So Whenever two Y see each other, one becomes Z. In this model Z will never actually die because it has no transition: omega_Z=spontaneous_Z=0, so at the end Z are the majority.\n",
    "What happens with X and Y?\n",
    "In this model it will always extract a Y node, the only with omega!=0, and always make contact.\n",
    "If u find an X, it becomes an Y, otherwise u become a Z INDEPENDENTLY OF THE alpha RATE.\n",
    "The simulation stops when no node is extracted, so no more Y."
   ]
  },
  {
   "cell_type": "code",
   "execution_count": null,
   "metadata": {},
   "outputs": [],
   "source": [
    "Nyy0=983\n",
    "Nxx0=1017\n",
    "\n",
    "print(it/2)\n",
    "final_x=Nxx0*(1-1/(tot-1))**(it/2)\n",
    "print(final_x/tot,Nx_plot[-1])"
   ]
  },
  {
   "cell_type": "code",
   "execution_count": null,
   "metadata": {},
   "outputs": [],
   "source": []
  },
  {
   "cell_type": "code",
   "execution_count": 57,
   "metadata": {},
   "outputs": [
    {
     "name": "stdout",
     "output_type": "stream",
     "text": [
      "[1, 1, 0, 1, 1, 1, 1, 1, 0, 0, 1, 1, 0, 1, 1, 0, 1, 1, 1, 0]\n",
      "[0, 1, 2, 4, 5, 6, 7, 8, 9, 10, 11, 12, 13, 14, 15, 16, 17, 18, 19]\n"
     ]
    }
   ],
   "source": [
    "print([node[j].stat for j in range(tot)])\n"
   ]
  },
  {
   "cell_type": "code",
   "execution_count": null,
   "metadata": {},
   "outputs": [],
   "source": []
  }
 ],
 "metadata": {
  "kernelspec": {
   "display_name": "Python 3",
   "language": "python",
   "name": "python3"
  },
  "language_info": {
   "codemirror_mode": {
    "name": "ipython",
    "version": 3
   },
   "file_extension": ".py",
   "mimetype": "text/x-python",
   "name": "python",
   "nbconvert_exporter": "python",
   "pygments_lexer": "ipython3",
   "version": "3.6.8"
  }
 },
 "nbformat": 4,
 "nbformat_minor": 2
}
