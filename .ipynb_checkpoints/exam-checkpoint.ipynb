{
 "cells": [
  {
   "cell_type": "code",
   "execution_count": 32,
   "metadata": {},
   "outputs": [
    {
     "name": "stdout",
     "output_type": "stream",
     "text": [
      "Populating the interactive namespace from numpy and matplotlib\n",
      "[0, 1, 2, 3, 4, 5, 6, 7, 8, 9, 10, 11, 12, 13, 14, 15, 16, 17, 18, 19, 20, 21, 22, 23, 24, 25, 26, 27, 28, 29, 30, 31, 32, 33, 34, 35, 36, 37, 38, 39, 40, 41, 42, 43, 44, 45, 46, 47, 48, 49, 50, 51, 52, 53, 54, 55, 56, 57, 58, 59, 60, 61, 62, 63, 64, 65, 66, 67, 68, 69, 70, 71, 72, 73, 74, 75, 76, 77, 78, 79, 80, 81, 82, 83, 84, 85, 86, 87, 88, 89, 90, 91, 92, 93, 94, 95, 96, 97, 98, 99, 100, 101, 102, 103, 104, 105, 106, 107, 108, 109, 110, 111, 112, 113, 114, 115, 116, 117, 118, 119, 120, 121, 122, 123, 124, 125, 126, 127, 128, 129, 130, 131, 132, 133, 134, 135, 136, 137, 138, 139, 140, 141, 142, 143, 144, 145, 146, 147, 148, 149, 150, 151, 152, 153, 154, 155, 156, 157, 158, 159, 160, 161, 162, 163, 164, 165, 166, 167, 168, 169, 170, 171, 172, 173, 174, 175, 176, 177, 178, 179, 180, 181, 182, 183, 184, 185, 186, 187, 188, 189, 190, 191, 192, 193, 194, 195, 196, 197, 198, 199, 200, 201, 202, 203, 204, 205, 206, 207, 208, 209, 210, 211, 212, 213, 214, 215, 216, 217, 218, 219, 220, 221, 222, 223, 224, 225, 226, 227, 228, 229, 230, 231, 232, 233, 234, 235, 236, 237, 238, 239, 240, 241, 242, 243, 244, 245, 246, 247, 248, 249, 250, 251, 252, 253, 254, 255, 256, 257, 258, 259, 260, 261, 262, 263, 264, 265, 266, 267, 268, 269, 270, 271, 272, 273, 274, 275, 276, 277, 278, 279, 280, 281, 282, 283, 284, 285, 286, 287, 288, 289, 290, 291, 292, 293, 294, 295, 296, 297, 298, 299, 300, 301, 302, 303, 304, 305, 306, 307, 308, 309, 310, 311, 312, 313, 314, 315, 316, 317, 318, 319, 320, 321, 322, 323, 324, 325, 326, 327, 328, 329, 330, 331, 332, 333, 334, 335, 336, 337, 338, 339, 340, 341, 342, 343, 344, 345, 346, 347, 348, 349, 350, 351, 352, 353, 354, 355, 356, 357, 358, 359, 360, 361, 362, 363, 364, 365, 366, 367, 368, 369, 370, 371, 372, 373, 374, 375, 376, 377, 378, 379, 380, 381, 382, 383, 384, 385, 386, 387, 388, 389, 390, 391, 392, 393, 394, 395, 396, 397, 398, 399, 400, 401, 402, 403, 404, 405, 406, 407, 408, 409, 410, 411, 412, 413, 414, 415, 416, 417, 418, 419, 420, 421, 422, 423, 424, 425, 426, 427, 428, 429, 430, 431, 432, 433, 434, 435, 436, 437, 438, 439, 440, 441, 442, 443, 444, 445, 446, 447, 448, 449, 450, 451, 452, 453, 454, 455, 456, 457, 458, 459, 460, 461, 462, 463, 464, 465, 466, 467, 468, 469, 470, 471, 472, 473, 474, 475, 476, 477, 478, 479, 480, 481, 482, 483, 484, 485, 486, 487, 488, 489, 490, 491, 492, 493, 494, 495, 496, 497, 498, 499, 500, 501, 502, 503, 504, 505, 506, 507, 508, 509, 510, 511, 512, 513, 514, 515, 516, 517, 518, 519, 520, 521, 522, 523, 524, 525, 526, 527, 528, 529, 530, 531, 532, 533, 534, 535, 536, 537, 538, 539, 540, 541, 542, 543, 544, 545, 546, 547, 548, 549, 550, 551, 552, 553, 554, 555, 556, 557, 558, 559, 560, 561, 562, 563, 564, 565, 566, 567, 568, 569, 570, 571, 572, 573, 574, 575, 576, 577, 578, 579, 580, 581, 582, 583, 584, 585, 586, 587, 588, 589, 590, 591, 592, 593, 594, 595, 596, 597, 598, 599, 600, 601, 602, 603, 604, 605, 606, 607, 608, 609, 610, 611, 612, 613, 614, 615, 616, 617, 618, 619, 620, 621, 622, 623, 624, 625, 626, 627, 628, 629, 630, 631, 632, 633, 634, 635, 636, 637, 638, 639, 640, 641, 642, 643, 644, 645, 646, 647, 648, 649, 650, 651, 652, 653, 654, 655, 656, 657, 658, 659, 660, 661, 662, 663, 664, 665, 666, 667, 668, 669, 670, 671, 672, 673, 674, 675, 676, 677, 678, 679, 680, 681, 682, 683, 684, 685, 686, 687, 688, 689, 690, 691, 692, 693, 694, 695, 696, 697, 698, 699, 700, 701, 702, 703, 704, 705, 706, 707, 708, 709, 710, 711, 712, 713, 714, 715, 716, 717, 718, 719, 720, 721, 722, 723, 724, 725, 726, 727, 728, 729, 730, 731, 732, 733, 734, 735, 736, 737, 738, 739, 740, 741, 742, 743, 744, 745, 746, 747, 748, 749, 750, 751, 752, 753, 754, 755, 756, 757, 758, 759, 760, 761, 762, 763, 764, 765, 766, 767, 768, 769, 770, 771, 772, 773, 774, 775, 776, 777, 778, 779, 780, 781, 782, 783, 784, 785, 786, 787, 788, 789, 790, 791, 792, 793, 794, 795, 796, 797, 798, 799, 800, 801, 802, 803, 804, 805, 806, 807, 808, 809, 810, 811, 812, 813, 814, 815, 816, 817, 818, 819, 820, 821, 822, 823, 824, 825, 826, 827, 828, 829, 830, 831, 832, 833, 834, 835, 836, 837, 838, 839, 840, 841, 842, 843, 844, 845, 846, 847, 848, 849, 850, 851, 852, 853, 854, 855, 856, 857, 858, 859, 860, 861, 862, 863, 864, 865, 866, 867, 868, 869, 870, 871, 872, 873, 874, 875, 876, 877, 878, 879, 880, 881, 882, 883, 884, 885, 886, 887, 888, 889, 890, 891, 892, 893, 894, 895, 896, 897, 898, 899, 900, 901, 902, 903, 904, 905, 906, 907, 908, 909, 910, 911, 912, 913, 914, 915, 916, 917, 918, 919, 920, 921, 922, 923, 924, 925, 926, 927, 928, 929, 930, 931, 932, 933, 934, 935, 936, 937, 938, 939, 940, 941, 942, 943, 944, 945, 946, 947, 948, 949, 950, 951, 952, 953, 954, 955, 956, 957, 958, 959, 960, 961, 962, 963, 964, 965, 966, 967, 968, 969, 970, 971, 972, 973, 974, 975, 976, 977, 978, 979, 980, 981, 982, 983, 984, 985, 986, 987, 988, 989, 990, 991, 992, 993, 994, 995, 996, 997, 998, 999]\n"
     ]
    },
    {
     "name": "stderr",
     "output_type": "stream",
     "text": [
      "/home/simone/anaconda3/envs/python_env/lib/python3.6/site-packages/IPython/core/magics/pylab.py:160: UserWarning: pylab import has clobbered these variables: ['beta', 'gamma']\n",
      "`%matplotlib` prevents importing * from pylab and numpy\n",
      "  \"\\n`%matplotlib` prevents importing * from pylab and numpy\"\n"
     ]
    }
   ],
   "source": [
    "%pylab inline\n",
    "lamda=1; eta=.9; alpha=.4; beta=.5; d1=d2=gamma=0.1\n",
    "\n",
    "##be careful, lamda is a rate, eta is a probability!\n",
    "#lamda is (l1=rate of interaction Y+X->Y+Y)+(l2=rate of Y+X->Y+Z), so lamda=l1+l2, eta=l1/l1+l2\n",
    "\n",
    "#[50,200,500,2000]\n",
    "tot=1000 #number of nodes\n",
    "houses=1000\n",
    "house_size=tot//houses  #[5,50,100] households\n",
    "medians=[(house_size//2)+house_size*i for i in range(0,tot//house_size)]\n",
    "\n",
    "init_spread=0.1 #initial spreaders percentage\n",
    "print(medians)\n",
    "\n",
    "T=300\n",
    "t=0\n",
    "max_it=10000"
   ]
  },
  {
   "cell_type": "code",
   "execution_count": 33,
   "metadata": {},
   "outputs": [],
   "source": [
    "def delta(status,desired): #returns 0 if and only if status and desired are the same\n",
    "    return int(status==desired)"
   ]
  },
  {
   "cell_type": "code",
   "execution_count": 34,
   "metadata": {},
   "outputs": [],
   "source": [
    "class Node:\n",
    "    def __init__(self, status):\n",
    "        self.stat=status #status of the node:0=X,1=Y,2=Z\n",
    "        self.neig=[]\n",
    "        self.k=0\n",
    "        self.kx=0\n",
    "        self.omega=0 #total rate of transition of the node\n",
    "        self.spontaneous=0  #rate of spontaneous transistion of the node\n",
    "        \n",
    "    def insert_neighbours(self,neigh):\n",
    "        self.neig=neigh #list of neighbours\n",
    "        self.k=size(neigh)\n",
    "        \n",
    "    def update(self, increment=0):\n",
    "        self.kx+= increment \n",
    "        self.omega=self.myomega()\n",
    "        self.spontaneous=self.spont()\n",
    "    \n",
    "    def myomega(self): #not normalized probability of being chosen,proportional to transition rate\n",
    "        return delta(self.stat,1)*(self.kx*lamda+alpha*(self.k-self.kx)+d1+d2)+delta(self.stat,2)*(gamma+self.kx*beta)\n",
    "    \n",
    "    def spont(self): #rate of spontanous transitions\n",
    "        return delta(self.stat,1)*(d1+d2)+delta(self.stat,2)*gamma"
   ]
  },
  {
   "cell_type": "code",
   "execution_count": 35,
   "metadata": {},
   "outputs": [],
   "source": [
    "node=[]\n",
    "for i in range(tot):\n",
    "    r= 1 if np.random.rand(1)<init_spread else 0\n",
    "    node.append(Node(r))\n",
    "    \n",
    "for i in range(tot):  #insert neighbours and fix k\n",
    "    node[i].insert_neighbours(  [j for j in range(    house_size*(i//house_size),house_size*(1+i//house_size)) if j!=i]\n",
    "                              + [m for m in medians if (i in medians)and(m!=i)])\n",
    "    \n",
    "for i in range(tot): #fix kx,omega, spontaneous rate\n",
    "    node[i].update(size([node[j] for j in node[i].neig if node[j].stat==0]))\n",
    "    \n",
    "#print([i for i in range(tot) if node[i].stat==1])\n",
    "#print([node[i].kx for i in range(tot)])\n",
    "W=sum([node[i].omega for i in range(tot)])\n",
    "W\n",
    "Nx=sum([node[i].stat==0 for i in range(tot)])\n",
    "Ny=sum([node[i].stat==1 for i in range(tot)])"
   ]
  },
  {
   "cell_type": "markdown",
   "metadata": {},
   "source": [
    "## SIMULATOR, Improved Rejection sampling with node-based method"
   ]
  },
  {
   "cell_type": "code",
   "execution_count": 36,
   "metadata": {},
   "outputs": [],
   "source": [
    "#this function choose a node randomly and accepts it with probability proportional to its total rate (omega[i])\n",
    "def choose_node():\n",
    "    while(True):\n",
    "        r2,i= np.random.rand(2)\n",
    "        i=int(i*tot) #extracted node\n",
    "        if(node[i].omega>r2*W):\n",
    "            return i\n",
    "        \n",
    "        \n",
    "##choose noded version2:\n",
    "def choose_node_2():\n",
    "    probs=[node[i].omega for i in range(tot)]\n",
    "    sorted_probs= sorted(((v, i) for i, v in enumerate(probs)), reverse=True)\n",
    "\n",
    "    cumulates = np.cumsum([item[0] for item in sorted_probs])  \n",
    "    r2=np.random.rand()*W\n",
    "\n",
    "    for i, val in enumerate(cumulates):\n",
    "        if r2 < val:\n",
    "            idx=sorted_probs[i][1]\n",
    "            if(node[idx].stat==0):\n",
    "                print(\"what \", node[i].omega)\n",
    "            return idx       \n",
    "\n",
    "        \n",
    "#this function represent a spontaneous process (nodes not interacting)\n",
    "def spontaneous_transition(i):\n",
    "    global Nx,Ny\n",
    "    if(node[i].stat==0):\n",
    "        print(\"Should not happen\")\n",
    "        return\n",
    "    r=np.random.rand()\n",
    "    if((node[i].stat==1)and(r*(d1+d2)<=d1)):  #case Y=>X with rate d1\n",
    "        #print(\"Y to X\")\n",
    "        node[i].stat=0\n",
    "        node[i].update(0)\n",
    "        Nx+=1\n",
    "        Ny-=1\n",
    "        for n in node[i].neig:\n",
    "            node[n].update(1) #all neighbours have 1 more X neighbours\n",
    "        return\n",
    "    elif((node[i].stat==1)and(r*(d1+d2)>d1)): #case Y=>Z rate d2\n",
    "        #print(\"Y to Z\")\n",
    "        node[i].stat=2   #does not change kx of neighbours, so they do not need to be updated\n",
    "        node[i].update(0)\n",
    "        Ny-=1\n",
    "        return\n",
    "    #case Z=>X\n",
    "    #print(\"Z to X\")\n",
    "    node[i].stat=0\n",
    "    node[i].update(0)\n",
    "    Nx+=1\n",
    "    for n in node[i].neig:\n",
    "        node[n].update(1)\n",
    "    return\n",
    "    \n",
    "    \n",
    "#this function simulate contact from node[i] to one of its neighbours  \n",
    "def make_contact_from(i):\n",
    "    global Nx,Ny\n",
    "    n=random.choice(node[i].neig)\n",
    "    if((node[i].stat==1)and(node[n].stat==0)): #Y+X \n",
    "        if(np.random.rand()<eta):  #Y+X=> Y+Y with prob eta\n",
    "            node[n].stat=1\n",
    "            Nx-=1\n",
    "            Ny+=1\n",
    "            for nn in node[n].neig:\n",
    "                node[nn].update(-1) #all the neighbours of node[n] have 1 less X neighbour, me included\n",
    "            return\n",
    "        else:  #Y+X=>Y+Z with (1-eta)\n",
    "            node[n].stat=2\n",
    "            Nx-=1\n",
    "            for nn in node[n].neig:\n",
    "                node[nn].update(-1) #all the neighbours of node[n] have 1 less X neighbour, me included\n",
    "            return\n",
    "    elif(node[i].stat==1): #Y+ (Z or Y) => Z+ (Z or Y)\n",
    "        node[i].stat=2\n",
    "        Ny-=1\n",
    "        node[i].update(0)   #No change in kx for me nor my neighbours\n",
    "        return\n",
    "    #if u arrive here, it means u are Z && kx!=0, so u can do contact transition of Z\n",
    "    #Z+X->Y+X\n",
    "    if(node[i].stat!=2):\n",
    "        print(\"cosa che diamine\")\n",
    "    node[i].stat=1\n",
    "    node[i].update()  #neighbours no need to update: kx is the same for them\n",
    "    Ny+=1\n",
    "    return"
   ]
  },
  {
   "cell_type": "code",
   "execution_count": 37,
   "metadata": {},
   "outputs": [
    {
     "name": "stdout",
     "output_type": "stream",
     "text": [
      "19992 10000 approaching max_it\n",
      "19994 10000 approaching max_it\n",
      "19996 10000 approaching max_it\n",
      "19998 10000 approaching max_it\n",
      "20000 10000 approaching max_it\n",
      "CPU times: user 11.8 s, sys: 8.01 ms, total: 11.8 s\n",
      "Wall time: 11.8 s\n"
     ]
    }
   ],
   "source": [
    "%%time \n",
    "\n",
    "results=[]\n",
    "t=0\n",
    "r=np.random.rand(2*max_it)\n",
    "it=0\n",
    "\n",
    "results.append((t,Nx,Ny,tot-(Nx+Ny)))\n",
    "\n",
    "while((it<2*max_it)and (t<=T)):\n",
    "    dt=-log(r[it])/W\n",
    "    t+=dt\n",
    "    i=choose_node_2()\n",
    "    \n",
    "    \n",
    "    #print('node chosen', i)\n",
    "    if(i==None):\n",
    "        print('end ',Nx,Ny,Nz)\n",
    "        break\n",
    "    \n",
    "    if(r[it+1]*node[i].omega>node[i].spontaneous): \n",
    "        make_contact_from(i)\n",
    "    else:\n",
    "        spontaneous_transition(i)\n",
    "\n",
    "    W=sum([node[j].omega for j in range(tot)])\n",
    "    results.append((t,Nx,Ny,tot-(Nx+Ny)))\n",
    "    it+=2\n",
    "    if(it/2>max_it-5):\n",
    "        print(it, max_it,'approaching max_it')\n",
    "    if(T-t<0.5):\n",
    "        print('approaching max t')"
   ]
  },
  {
   "cell_type": "code",
   "execution_count": 38,
   "metadata": {},
   "outputs": [
    {
     "data": {
      "image/png": "[encoded data removed]",
      "text/plain": [
       "<Figure size 432x288 with 1 Axes>"
      ]
     },
     "metadata": {
      "needs_background": "light"
     },
     "output_type": "display_data"
    }
   ],
   "source": [
    "times= [item[0] for item in results]\n",
    "Nx_plot= [item[1] for item in results]\n",
    "Ny_plot= [item[2] for item in results]\n",
    "Nz_plot= [item[3] for item in results]\n",
    "\n",
    "ax = subplot(111)\n",
    "\n",
    "ax.plot(times,Nx_plot,'-o',label='Nx',markersize=2)\n",
    "ax.plot(times,Ny_plot,'-o',label='Ny',markersize=2)\n",
    "ax.plot(times,Nz_plot,'-o',label='Nz',markersize=2)\n",
    "ax.legend()\n",
    "ax.set_xlabel('Time')\n",
    "ax.set_ylabel('Population size')\n",
    "plt.title(str(tot)+' agents, contagions '+str(houses)+' houses')\n",
    "plt.savefig('only_spontaneous_'+str(tot)+'.png',dpi=200)\n",
    "plt.show()"
   ]
  },
  {
   "cell_type": "code",
   "execution_count": 29,
   "metadata": {},
   "outputs": [
    {
     "name": "stdout",
     "output_type": "stream",
     "text": [
      "100 0 0\n"
     ]
    }
   ],
   "source": []
  },
  {
   "cell_type": "code",
   "execution_count": null,
   "metadata": {},
   "outputs": [],
   "source": []
  }
 ],
 "metadata": {
  "kernelspec": {
   "display_name": "Python 3",
   "language": "python",
   "name": "python3"
  },
  "language_info": {
   "codemirror_mode": {
    "name": "ipython",
    "version": 3
   },
   "file_extension": ".py",
   "mimetype": "text/x-python",
   "name": "python",
   "nbconvert_exporter": "python",
   "pygments_lexer": "ipython3",
   "version": "3.6.8"
  }
 },
 "nbformat": 4,
 "nbformat_minor": 2
}
